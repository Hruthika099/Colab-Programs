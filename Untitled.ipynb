{
  "nbformat": 4,
  "nbformat_minor": 0,
  "metadata": {
    "colab": {
      "provenance": [],
      "authorship_tag": "ABX9TyOB/WKCYsIVUE0F+oQ0w4xv",
      "include_colab_link": true
    },
    "kernelspec": {
      "name": "python3",
      "display_name": "Python 3"
    },
    "language_info": {
      "name": "python"
    }
  },
  "cells": [
    {
      "cell_type": "markdown",
      "metadata": {
        "id": "view-in-github",
        "colab_type": "text"
      },
      "source": [
        "<a href=\"https://colab.research.google.com/github/Hruthika099/Colab-Programs/blob/main/Untitled.ipynb\" target=\"_parent\"><img src=\"https://colab.research.google.com/assets/colab-badge.svg\" alt=\"Open In Colab\"/></a>"
      ]
    },
    {
      "cell_type": "code",
      "execution_count": 1,
      "metadata": {
        "colab": {
          "base_uri": "https://localhost:8080/"
        },
        "id": "io5foDECp6ix",
        "outputId": "1aaff74f-3009-44e9-f281-4b60a33c4550"
      },
      "outputs": [
        {
          "output_type": "stream",
          "name": "stdout",
          "text": [
            "Name: Hruthika, Age: 20, Address: Gitam University, Hyderabad\n"
          ]
        }
      ],
      "source": [
        "name = \"Hruthika\"\n",
        "age = 20\n",
        "address = \"Gitam University, Hyderabad\"\n",
        "print(f\"Name: {name}, Age: {age}, Address: {address}\")"
      ]
    },
    {
      "cell_type": "code",
      "source": [
        "# Prompt the user to enter their name\n",
        "user_name = input(\"Enter your name: \")\n",
        "\n",
        "# Prompt the user to enter their age\n",
        "user_age = input(\"Enter your age: \")\n",
        "\n",
        "# Print the collected information\n",
        "print(f\"User Name: {user_name}, User Age: {user_age}\")\n",
        "\n"
      ],
      "metadata": {
        "colab": {
          "base_uri": "https://localhost:8080/"
        },
        "id": "rRYGHTvkuijA",
        "outputId": "3a263827-7eef-4d3b-e535-0302a0db2ca5"
      },
      "execution_count": 16,
      "outputs": [
        {
          "output_type": "stream",
          "name": "stdout",
          "text": [
            "Enter your name: Hruthika\n",
            "Enter your age: 20\n",
            "User Name: Hruthika, User Age: 20\n"
          ]
        }
      ]
    },
    {
      "cell_type": "code",
      "source": [
        "# Taking input from the keyboard\n",
        "user_name = input(\"Enter your name: \")  # Prompts the user to input their name\n",
        "user_age = input(\"Enter your age: \")    # Prompts the user to input their age\n",
        "\n",
        "# Print the collected information\n",
        "print(f\"User Name: {user_name}, User Age: {user_age}\")  # Formats and displays the information\n"
      ],
      "metadata": {
        "colab": {
          "base_uri": "https://localhost:8080/"
        },
        "id": "NikS4gCRupsI",
        "outputId": "ab5008d2-d33b-4473-aa98-e01335470354"
      },
      "execution_count": 17,
      "outputs": [
        {
          "output_type": "stream",
          "name": "stdout",
          "text": [
            "Enter your name: Hruthika\n",
            "Enter your age: 20\n",
            "User Name: Hruthika, User Age: 20\n"
          ]
        }
      ]
    },
    {
      "cell_type": "code",
      "source": [
        "# Reading a single input from a file.\n",
        "try:\n",
        "    with open(\"single_input.txt\", \"w\") as f:\n",
        "        f.write(\"42\")\n",
        "    with open(\"single_input.txt\", \"r\") as f:\n",
        "        num = int(f.read().strip())\n",
        "        print(f\"Result: {num} * 2 = {num * 2}\")\n",
        "except (FileNotFoundError, ValueError):\n",
        "    print(\"Error: File not found or invalid content!\")"
      ],
      "metadata": {
        "colab": {
          "base_uri": "https://localhost:8080/"
        },
        "id": "gkLnnz1yxkrk",
        "outputId": "3136122a-29a4-47ab-d0f6-75fad6f0d4e3"
      },
      "execution_count": 20,
      "outputs": [
        {
          "output_type": "stream",
          "name": "stdout",
          "text": [
            "Result: 42 * 2 = 84\n"
          ]
        }
      ]
    }
  ]
}